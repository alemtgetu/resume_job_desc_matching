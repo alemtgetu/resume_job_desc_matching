{
 "cells": [
  {
   "cell_type": "code",
   "execution_count": 157,
   "metadata": {},
   "outputs": [],
   "source": [
    "from sklearn.model_selection import train_test_split\n",
    "from gensim.models.doc2vec import Doc2Vec, TaggedDocument\n",
    "import PyPDF2\n",
    "from tqdm import tqdm\n",
    "from collections import Counter\n",
    "import json\n",
    "import re\n",
    "import string\n",
    "import gzip\n",
    "import numpy as np\n",
    "from nltk.tokenize import word_tokenize\n",
    "from traceback_with_variables import activate_by_import\n"
   ]
  },
  {
   "cell_type": "code",
   "execution_count": 180,
   "metadata": {},
   "outputs": [
    {
     "data": {
      "text/plain": [
       "'!\"#$%&\\'()*+,-./:;<=>?@[\\\\]^_`{|}~'"
      ]
     },
     "execution_count": 180,
     "metadata": {},
     "output_type": "execute_result"
    }
   ],
   "source": [
    "string.punctuation"
   ]
  },
  {
   "cell_type": "code",
   "execution_count": null,
   "metadata": {},
   "outputs": [],
   "source": [
    "def load_stopwords(filename):\n",
    "    stopwords = [] # ASSIGNMENT: replace this with your code\n",
    "    with open(filename, \"r\") as f:\n",
    "        for line in tqdm(f):\n",
    "            stopwords.append(re.sub(r'\\n','',line))\n",
    "    return set(stopwords)"
   ]
  },
  {
   "cell_type": "code",
   "execution_count": 195,
   "metadata": {},
   "outputs": [],
   "source": [
    "from gensim.parsing.preprocessing import preprocess_string\n",
    "from gensim.parsing.preprocessing import remove_stopwords\n",
    "from gensim.parsing.preprocessing import split_on_space\n",
    "from gensim.parsing.preprocessing import strip_multiple_whitespaces\n",
    "from gensim.parsing.preprocessing import strip_non_alphanum\n",
    "from gensim.parsing.preprocessing import strip_punctuation\n",
    "\n",
    "\n",
    "def clean_strings(data):\n",
    "    stop_words = load_stopwords('mallet_en_stoplist.txt')\n",
    "    data = remove_stopwords(data)\n",
    "    data = strip_multiple_whitespaces(data)\n",
    "    data = strip_non_alphanum(data)\n",
    "    data = strip_punctuation(data)\n",
    "    data = split_on_space(data.lower())\n",
    "    return data"
   ]
  },
  {
   "cell_type": "code",
   "execution_count": 123,
   "metadata": {},
   "outputs": [],
   "source": [
    "def filter_punctuation(tokens):\n",
    "    punct = string.punctuation\n",
    "    return [word   for word in tokens   if word not in punct ]\n"
   ]
  },
  {
   "cell_type": "code",
   "execution_count": 159,
   "metadata": {},
   "outputs": [],
   "source": [
    "def read_and_clean_jds(infile):\n",
    "    print(\"\\nReading and cleaning text from {}\".format(infile))\n",
    "    jds = []\n",
    "    categories = []\n",
    "    with gzip.open(infile,'rt') as f:\n",
    "        for line in tqdm(f):\n",
    "            json_line = ''\n",
    "            try:\n",
    "                json_line = json.loads(line)\n",
    "            except:\n",
    "                print(\"An execption occurred loading the following line\")\n",
    "                print(line)\n",
    "                next\n",
    "            category = json_line['category']\n",
    "            category = re.sub(r'\\/','_',category)\n",
    "            jd = json_line['job_description']\n",
    "            jd_text = jd.translate(str.maketrans('','',string.punctuation))\n",
    "            jd_text = re.sub(r'\\s+', ' ', jd_text)\n",
    "            # jd_tokens = filter_punctuation(word_tokenize(jd_text.lower()))\n",
    "            jd_tokens = clean_strings(jd_text)\n",
    "            category_text = re.sub(r'\\s+', '_', category)\n",
    "            categories.append(category_text.lower())\n",
    "            jds.append(jd_tokens)\n",
    "            \n",
    "    return jds, categories"
   ]
  },
  {
   "cell_type": "code",
   "execution_count": null,
   "metadata": {},
   "outputs": [],
   "source": [
    "def read_and_clean_resume_pdf(filename):\n",
    "    # resume_path = 'resume1.pdf'\n",
    "    resume_text = ''\n",
    "    pdfReader = PyPDF2.PdfFileReader(filename)\n",
    "    for i in range(pdfReader.numPages):\n",
    "        pageObj = pdfReader.getPage(i)\n",
    "        resume_text += pageObj.extractText()\n",
    "    \n",
    "    # pre normalize tokenization\n",
    "    resume_text = resume_text.lower()\n",
    "    resume_text = re.sub('[^a-z]', ' ', resume_text) \n",
    "    resume_text = re.sub(r'\\s+', ' ', resume_text)\n",
    "    return resume_text"
   ]
  },
  {
   "cell_type": "code",
   "execution_count": 130,
   "metadata": {},
   "outputs": [],
   "source": [
    "def split_training_set(jds, labels, test_size=0.3, random_seed=42):\n",
    "    X_train, X_test, y_train, y_test = train_test_split(jds, labels, test_size=test_size, random_state=random_seed, stratify=labels)\n",
    "    print(\"Training set label counts: {}\".format(Counter(y_train)))\n",
    "    print(\"Test set     label counts: {}\".format(Counter(y_test)))\n",
    "    return X_train, X_test, y_train, y_test"
   ]
  },
  {
   "cell_type": "code",
   "execution_count": 162,
   "metadata": {},
   "outputs": [
    {
     "name": "stdout",
     "output_type": "stream",
     "text": [
      "\n",
      "Reading and cleaning text from indeed_job_posting.ldjson.gz\n"
     ]
    },
    {
     "name": "stderr",
     "output_type": "stream",
     "text": [
      "29928it [00:55, 539.79it/s]"
     ]
    },
    {
     "name": "stdout",
     "output_type": "stream",
     "text": [
      "29928 29928\n"
     ]
    },
    {
     "name": "stderr",
     "output_type": "stream",
     "text": [
      "\n"
     ]
    }
   ],
   "source": [
    "job_description_data = 'indeed_job_posting.ldjson.gz'\n",
    "jds, categories = read_and_clean_jds(job_description_data)\n",
    "print(len(jds), len(categories))"
   ]
  },
  {
   "cell_type": "code",
   "execution_count": 163,
   "metadata": {},
   "outputs": [
    {
     "name": "stdout",
     "output_type": "stream",
     "text": [
      "Training set label counts: Counter({'healthcare': 2553, 'administrative': 2503, 'manufacturing_mechanical': 1575, 'construction_facilities': 1559, 'computer_internet': 1528, 'sales': 1362, 'transportation_logistics': 1297, 'restaurant_food_service': 1205, 'customer_service': 990, 'retail': 788, 'accounting_finance': 725, 'engineering_architecture': 720, 'education_training': 664, 'upper_management_consulting': 476, 'human_resources': 470, 'marketing_advertising_pr': 446, 'banking_loans': 329, 'non-profit_volunteering': 255, 'insurance': 233, 'hospitality_travel': 229, 'law_enforcement_security': 223, 'arts_entertainment_publishing': 192, 'legal': 160, 'pharmaceutical_bio-tech': 143, 'real_estate': 128, 'telecommunications': 127, 'government_military': 69})\n",
      "Test set     label counts: Counter({'healthcare': 1094, 'administrative': 1073, 'manufacturing_mechanical': 675, 'construction_facilities': 668, 'computer_internet': 655, 'sales': 584, 'transportation_logistics': 556, 'restaurant_food_service': 517, 'customer_service': 424, 'retail': 337, 'accounting_finance': 311, 'engineering_architecture': 309, 'education_training': 285, 'upper_management_consulting': 204, 'human_resources': 202, 'marketing_advertising_pr': 191, 'banking_loans': 141, 'non-profit_volunteering': 109, 'insurance': 100, 'hospitality_travel': 98, 'law_enforcement_security': 95, 'arts_entertainment_publishing': 82, 'legal': 68, 'pharmaceutical_bio-tech': 61, 'real_estate': 55, 'telecommunications': 55, 'government_military': 30})\n"
     ]
    },
    {
     "data": {
      "text/plain": [
       "{'restaurant_food_service': 517,\n",
       " 'healthcare': 1094,\n",
       " 'marketing_advertising_pr': 191,\n",
       " 'non-profit_volunteering': 109,\n",
       " 'human_resources': 202,\n",
       " 'law_enforcement_security': 95,\n",
       " 'insurance': 100,\n",
       " 'hospitality_travel': 98,\n",
       " 'administrative': 1073,\n",
       " 'computer_internet': 655,\n",
       " 'manufacturing_mechanical': 675,\n",
       " 'construction_facilities': 668,\n",
       " 'transportation_logistics': 556,\n",
       " 'sales': 584,\n",
       " 'retail': 337,\n",
       " 'education_training': 285,\n",
       " 'upper_management_consulting': 204,\n",
       " 'government_military': 30,\n",
       " 'customer_service': 424,\n",
       " 'accounting_finance': 311,\n",
       " 'engineering_architecture': 309,\n",
       " 'pharmaceutical_bio-tech': 61,\n",
       " 'real_estate': 55,\n",
       " 'banking_loans': 141,\n",
       " 'arts_entertainment_publishing': 82,\n",
       " 'telecommunications': 55,\n",
       " 'legal': 68}"
      ]
     },
     "execution_count": 163,
     "metadata": {},
     "output_type": "execute_result"
    }
   ],
   "source": [
    "X_train, X_test, y_train, y_test = split_training_set(jds, categories)\n",
    "dict(Counter(y_test))\n"
   ]
  },
  {
   "cell_type": "code",
   "execution_count": 164,
   "metadata": {},
   "outputs": [],
   "source": [
    "dict_test_count = dict(Counter(y_test))"
   ]
  },
  {
   "cell_type": "code",
   "execution_count": 165,
   "metadata": {},
   "outputs": [],
   "source": [
    "\n",
    "def tag_document(list_of_list_of_words):\n",
    "    for i, list_of_words in enumerate(list_of_list_of_words):\n",
    "        \n",
    "        yield TaggedDocument(list_of_words, [i])"
   ]
  },
  {
   "cell_type": "code",
   "execution_count": 166,
   "metadata": {},
   "outputs": [],
   "source": [
    "def train_model(data):\n",
    "    \n",
    "    # tagged_data = [TaggedDocument(words = word_tokenize(_d.lower()), tags = [str(i)]) for i, _d in enumerate(data)]\n",
    "\n",
    "    tagged_data = list(tag_document(data))\n",
    "    # initialize model\n",
    "    model = Doc2Vec(vector_size=50, min_count=10, epochs=50)\n",
    "    # vocabulary building\n",
    "    model.build_vocab(tagged_data)\n",
    "   \n",
    "    print(type(tagged_data))\n",
    "    model.train(tagged_data, total_examples=model.corpus_count, epochs=model.epochs)\n",
    "    model_name = 'doc2vec_latest_pynb_2'\n",
    "    model.save(model_name)\n",
    "    print(\"Model saved\")\n",
    "    return model_name"
   ]
  },
  {
   "cell_type": "code",
   "execution_count": 167,
   "metadata": {},
   "outputs": [
    {
     "data": {
      "text/plain": [
       "[TaggedDocument(words=['description', 'purpose', 'of', 'position', 'the', 'dc', 'loss', 'prevention', 'manager', 'assists', 'in', 'the', 'detention', 'of', 'employees', 'and', 'contracted', 'vendors', 'for', 'theft', 'fraud', 'or', 'combative', 'situations', 'the', 'dc', 'loss', 'prevention', 'manager', 'observes', 'cameras', 'at', 'length', 'while', 'protecting', 'the', 'company', '’', 's', 'assets', 'and', 'maintains', 'a', 'strong', 'loss', 'prevention', 'and', 'safety', 'culture', 'in', 'the', 'warehouse', 'to', 'reduce', 'losses', 'and', 'liabilities', 'essential', 'duties', 'and', 'responsibilities', 'ensure', 'adequate', 'loss', 'prevention', 'and', 'security', 'staffing', 'within', 'the', 'dc', 'and', 'ensure', 'employees', 'are', 'properly', 'trained', 'supervise', 'motivate', 'and', 'develop', 'loss', 'prevention', 'team', 'members', 'manage', 'all', 'investigations', 'of', 'merchandise', 'loss', 'including', 'internal', 'theft', 'maintain', 'a', 'close', 'working', 'relationship', 'with', 'dc', 'management', 'assist', 'with', 'the', 'detention', 'of', 'employees', 'and', 'serve', 'as', 'a', 'witness', 'during', 'the', 'theft', 'interview', 'process', 'maintain', 'trailer', 'and', 'shipment', 'security', 'through', 'the', 'use', 'of', 'a', 'strictly', 'monitored', 'seal', 'verification', 'program', 'assist', 'with', 'adherence', 'to', 'the', 'safety', 'program', 'through', 'monitoring', 'practices', 'via', 'personal', 'observation', 'and', 'the', 'use', 'of', 'closedcircuit', 'television', 'cctv', 'assist', 'with', 'enforcing', 'access', 'to', 'warehouse', 'by', 'authorized', 'and', 'unauthorized', 'personnel', 'act', 'as', 'liaison', 'for', 'all', 'persons', 'entering', 'the', 'warehouse', 'conduct', 'daily', 'walks', 'of', 'the', 'warehouse', 'to', 'ensure', 'policies', 'are', 'followed', 'the', 'building', 'is', 'secure', 'and', 'to', 'identify', 'theft', 'or', 'damage', 'ensure', 'all', 'loss', 'prevention', 'matters', 'are', 'properly', 'documented', 'in', 'the', 'lpms', 'all', 'other', 'duties', 'as', 'assigned', 'requirements', 'qualifications', 'excellent', 'verbal', 'and', 'written', 'skills', 'attention', 'to', 'detail', 'knowledge', 'of', 'cctv', 'systems', 'excellent', 'organizational', 'and', 'time', 'management', 'skills', 'educationexperience', 'high', 'school', 'diploma', 'or', 'equivalent', 'required', 'a', 'minimum', 'of', '2', 'years', 'loss', 'prevention', 'experience', 'required', 'certificates', 'licenses', 'registrations', 'none', 'supervisory', 'responsibilities', 'none', 'work', 'environmentphysical', 'demands', 'the', 'work', 'environment', 'characteristics', 'and', 'physical', 'demands', 'described', 'are', 'representative', 'of', 'those', 'an', 'employee', 'encounters', 'while', 'performing', 'the', 'essential', 'functions', 'of', 'this', 'job', 'reasonable', 'accommodations', 'may', 'be', 'made', 'to', 'enable', 'individuals', 'with', 'disabilities', 'to', 'perform', 'the', 'essential', 'functions', 'this', 'position', 'is', 'considered', 'sedentary', 'while', 'performing', 'the', 'duties', 'of', 'this', 'job', 'the', 'employee', 'is', 'regularly', 'required', 'to', 'stand', 'sit', 'talk', 'hear', 'and', 'use', 'hands', 'and', 'fingers', 'to', 'operate', 'a', 'computer', 'and', 'telephone', 'keyboard', 'reach', 'stoop', 'kneel', 'to', 'installmove', 'computer', 'equipment', 'the', 'employee', 'may', 'be', 'required', 'to', 'exert', 'up', 'to', '10', 'lbs', 'of', 'force', 'occasionally', 'andor', 'a', 'negligible', 'amount', 'of', 'force', 'frequently', 'or', 'constantly', 'to', 'lift', 'carry', 'push', 'pull', 'or', 'otherwise', 'move', 'objects', 'including', 'the', 'human', 'body', 'involves', 'sitting', 'most', 'of', 'the', 'time', 'but', 'may', 'involve', 'walking', 'or', 'standing', 'for', 'brief', 'periods', 'of', 'time', 'specific', 'vision', 'abilities', 'required', 'by', 'this', 'job', 'include', 'near', 'acuity', 'at', '20', 'inches', 'or', 'less', 'due', 'to', 'computer', 'work', 'while', 'performing', 'the', 'duties', 'of', 'this', 'job', 'the', 'employee', 'will', 'experience', 'a', 'moderate', 'noise', 'level', 'ie', 'business', 'office', 'with', 'computers', 'phone', 'and', 'printers', 'light', 'traffic', 'travel', 'requirements', 'this', 'position', 'does', 'not', 'require', 'travel', 'sportsman', '’', 's', 'warehouse', 'is', 'an', 'equal', 'opportunity', 'employer'], tags=[0])]"
      ]
     },
     "execution_count": 167,
     "metadata": {},
     "output_type": "execute_result"
    }
   ],
   "source": [
    "# model_name = train_model(X_train)\n",
    "# baseline_model = Doc2Vec.load(model_name)\n",
    "X_train[:2]\n",
    "tagged_x = tag_document(X_train[:3])\n",
    "list(tagged_x)[:1]\n",
    "# train_data = list(tagged_x)\n",
    "# train_data[:1]\n",
    "# list(tagged_x)[0]\n",
    "# training_corpus = list(tagged_x)[0]\n",
    "# print(training_corpus[:2])"
   ]
  },
  {
   "cell_type": "code",
   "execution_count": 168,
   "metadata": {},
   "outputs": [
    {
     "name": "stdout",
     "output_type": "stream",
     "text": [
      "<class 'list'>\n",
      "Model saved\n"
     ]
    }
   ],
   "source": [
    "model_name = train_model(X_train)\n",
    "# model _2 is trained with larger dataset\n",
    "baseline_model = Doc2Vec.load('doc2Vec_latest_pynb_2')"
   ]
  },
  {
   "cell_type": "code",
   "execution_count": 169,
   "metadata": {},
   "outputs": [],
   "source": [
    "baseline_model = Doc2Vec.load('doc2Vec_latest_pynb_2')"
   ]
  },
  {
   "cell_type": "code",
   "execution_count": 170,
   "metadata": {},
   "outputs": [],
   "source": [
    "resume = read_and_clean_resume_pdf('resume1.pdf')\n",
    "# print(\"Resume \\n\", resume)\n",
    "resume_tokens = word_tokenize(resume)\n",
    "# print(resume_tokens)"
   ]
  },
  {
   "cell_type": "code",
   "execution_count": 171,
   "metadata": {},
   "outputs": [
    {
     "name": "stdout",
     "output_type": "stream",
     "text": [
      "['at', 'american', 'signature', 'inc', 'we', 'believe', 'everyone', 'has', 'the', 'right', 'to', 'a', 'wellfurnished', 'life', 'every', 'day', 'our', 'customers', 'embark', 'upon', 'their', 'personal', 'style', 'journey—an', 'adventure', 'to', 'that', 'purpose', 'we', 'are', 'committed', 'to', 'providing', 'our', 'customers', 'with', 'an', 'easy', 'and', 'fun', 'furniture', 'shopping', 'experience', 'the', 'visual', 'merchandiser', 'is', 'critical', 'in', 'ensuring', 'we', 'meet', 'that', 'goal', 'by', 'implementing', 'the', 'visual', 'merchandising', 'strategy', 'this', 'person', 'creates', 'appealing', 'and', 'eyecatching', 'visual', 'displays', 'that', 'lead', 'the', 'customer', 'through', 'the', 'entire', 'store', 'this', 'role', 'reports', 'directly', 'to', 'the', 'store', 'manager', 'some', 'of', 'the', 'functions', 'the', 'visual', 'merchandiser', 'associate', 'will', 'perform', 'embodies', 'our', 'values', 'adventure', 'guides', 'serve', 'others', 'and', 'own', 'it', 'responsible', 'for', 'the', 'overall', 'presentation', 'of', 'the', 'showroom', 'executes', 'floor', 'set', 'changes', 'including', 'new', 'and', 'discontinued', 'items', 'managers', 'inventory', 'to', 'discourage', 'overages', 'and', 'shortages', 'assists', 'in', 'fostering', 'an', 'energetic', 'and', 'positive', 'working', 'environment', 'listens', 'to', 'the', 'customers', '’', 'needs', 'and', 'presents', 'possible', 'options', 'the', 'ideal', 'candidate', 'will', 'have', 'among', 'other', 'skills', 'and', 'abilities', 'high', 'school', 'diploma', 'or', 'general', 'education', 'degree', 'ged', 'or', 'equivalent', 'combination', 'of', 'education', 'and', 'experience', 'ability', 'to', 'read', 'write', 'and', 'comprehend', 'simple', 'instructions', 'short', 'correspondence', 'and', 'memos', 'possesses', 'a', 'strong', 'sense', 'of', 'style', 'and', 'ability', 'to', 'create', 'visually', 'appealing', 'displays', 'ability', 'to', 'effectively', 'present', 'information', 'in', 'oneonone', 'and', 'small', 'group', 'situations', 'to', 'customers', 'and', 'team', 'members', 'track', 'record', 'of', 'serving', 'others', 'and', 'putting', 'team', 'goals', 'first', 'owners', 'mindset', 'takes', 'ownership', 'over', 'everything', 'within', 'scope', 'of', 'responsibility', 'embody', 'an', 'adventure', 'guide', 'passion', 'for', 'the', 'business', 'bringing', 'curiosity', 'and', 'innovation', 'to', 'the', 'job', 'proactive', 'approach', 'identifies', 'and', 'solves', 'problems', 'adaptability', 'flexible', 'to', 'shifting', 'priorities', 'and', 'a', 'changing', 'environment', 'desire', 'to', 'continuously', 'improve', 'if', 'you', 'are', 'selected', 'for', 'an', 'interview', 'a', 'formal', 'job', 'description', 'is', 'available', 'your', 'interviewer', 'can', 'answer', 'any', 'questions', 'you', 'may', 'have', 'about', 'your', 'role', 'in', 'our', 'company', 'job', 'type', 'fulltime', 'pay', '1500', '1700', 'per', 'hour', 'benefits', '401k', '401k', 'matching', 'dental', 'insurance', 'employee', 'assistance', 'program', 'employee', 'discount', 'flexible', 'schedule', 'flexible', 'spending', 'account', 'health', 'insurance', 'health', 'savings', 'account', 'life', 'insurance', 'paid', 'time', 'off', 'vision', 'insurance', 'schedule', 'day', 'shift', 'monday', 'to', 'friday', 'willingness', 'to', 'travel', '25', 'preferred', 'work', 'location', 'one', 'location']\n"
     ]
    }
   ],
   "source": [
    "test_jd = X_test[24]\n",
    "print(test_jd)\n",
    "test_jd = filter_punctuation(test_jd)\n",
    "# test_jd\n",
    "# string.punctuation"
   ]
  },
  {
   "cell_type": "code",
   "execution_count": 172,
   "metadata": {},
   "outputs": [
    {
     "name": "stdout",
     "output_type": "stream",
     "text": [
      "[-0.02817023 -2.9834063  -2.1680255  -0.99298805 -1.6784064   0.9995433\n",
      "  0.5104036   0.9826045  -0.64675534  0.45878452 -1.1378207   0.17948298\n",
      "  0.12890847 -1.6156888  -0.11455686  1.8475986   0.18894452  0.28700772\n",
      "  2.5126631  -2.887785   -0.52730125  0.19553296 -2.4441578  -2.4779186\n",
      " -0.7345245   3.1311193  -0.11598843  1.1395485  -2.3057697   1.8959346\n",
      "  1.076565    4.558837   -4.481152    0.84730405 -2.2348993   2.4392035\n",
      " -4.746667    0.37996256 -0.19597453  2.712077    0.82944036 -1.0827668\n",
      " -1.5195162  -0.67740834  0.13965823  0.05648417 -0.54383105 -0.9709262\n",
      "  3.3701053   1.2368729 ]\n",
      "[-1.6653608   1.643185    0.32922906 -1.3868117   1.5204774  -2.930758\n",
      "  0.24913858  0.7447512  -2.5980022  -1.0749512   0.83170336 -0.7779447\n",
      "  0.4174793  -2.8418672   1.1400396  -2.6061044  -0.08156357  1.7677779\n",
      " -2.6633978   0.7569284   0.2568745   1.5723798   0.52084875  1.1488518\n",
      " -0.27910826  2.93171    -2.195914    0.50587744 -0.00839286  0.5554253\n",
      "  0.9636893   1.1173477   0.1205392   0.05216854 -1.4432486   0.8153073\n",
      "  0.3092618  -0.52251506  0.05699568 -0.8210505  -0.2536704   1.2155535\n",
      "  0.2372452   0.36220983  0.9732172  -0.03035686 -2.3259814  -1.2423428\n",
      "  3.3903172  -1.7140572 ]\n",
      "Baseline Cosin Similarity:\n",
      " 0.049\n"
     ]
    }
   ],
   "source": [
    "v1 = baseline_model.infer_vector(resume_tokens)\n",
    "v2 = baseline_model.infer_vector(test_jd)\n",
    "print(v1)\n",
    "print(v2)\n",
    "\n",
    "cos_sim = (np.dot(np.array(v1), np.array(v2))) / (np.linalg.norm(np.array(v1)) * np.linalg.norm(np.array(v2)))\n",
    "print(\"Baseline Cosin Similarity:\\n\", round(cos_sim, 3))\n"
   ]
  },
  {
   "cell_type": "code",
   "execution_count": 173,
   "metadata": {},
   "outputs": [
    {
     "name": "stdout",
     "output_type": "stream",
     "text": [
      "[TaggedDocument(words=['description', 'purpose', 'of', 'position', 'the', 'dc', 'loss', 'prevention', 'manager', 'assists', 'in', 'the', 'detention', 'of', 'employees', 'and', 'contracted', 'vendors', 'for', 'theft', 'fraud', 'or', 'combative', 'situations', 'the', 'dc', 'loss', 'prevention', 'manager', 'observes', 'cameras', 'at', 'length', 'while', 'protecting', 'the', 'company', '’', 's', 'assets', 'and', 'maintains', 'a', 'strong', 'loss', 'prevention', 'and', 'safety', 'culture', 'in', 'the', 'warehouse', 'to', 'reduce', 'losses', 'and', 'liabilities', 'essential', 'duties', 'and', 'responsibilities', 'ensure', 'adequate', 'loss', 'prevention', 'and', 'security', 'staffing', 'within', 'the', 'dc', 'and', 'ensure', 'employees', 'are', 'properly', 'trained', 'supervise', 'motivate', 'and', 'develop', 'loss', 'prevention', 'team', 'members', 'manage', 'all', 'investigations', 'of', 'merchandise', 'loss', 'including', 'internal', 'theft', 'maintain', 'a', 'close', 'working', 'relationship', 'with', 'dc', 'management', 'assist', 'with', 'the', 'detention', 'of', 'employees', 'and', 'serve', 'as', 'a', 'witness', 'during', 'the', 'theft', 'interview', 'process', 'maintain', 'trailer', 'and', 'shipment', 'security', 'through', 'the', 'use', 'of', 'a', 'strictly', 'monitored', 'seal', 'verification', 'program', 'assist', 'with', 'adherence', 'to', 'the', 'safety', 'program', 'through', 'monitoring', 'practices', 'via', 'personal', 'observation', 'and', 'the', 'use', 'of', 'closedcircuit', 'television', 'cctv', 'assist', 'with', 'enforcing', 'access', 'to', 'warehouse', 'by', 'authorized', 'and', 'unauthorized', 'personnel', 'act', 'as', 'liaison', 'for', 'all', 'persons', 'entering', 'the', 'warehouse', 'conduct', 'daily', 'walks', 'of', 'the', 'warehouse', 'to', 'ensure', 'policies', 'are', 'followed', 'the', 'building', 'is', 'secure', 'and', 'to', 'identify', 'theft', 'or', 'damage', 'ensure', 'all', 'loss', 'prevention', 'matters', 'are', 'properly', 'documented', 'in', 'the', 'lpms', 'all', 'other', 'duties', 'as', 'assigned', 'requirements', 'qualifications', 'excellent', 'verbal', 'and', 'written', 'skills', 'attention', 'to', 'detail', 'knowledge', 'of', 'cctv', 'systems', 'excellent', 'organizational', 'and', 'time', 'management', 'skills', 'educationexperience', 'high', 'school', 'diploma', 'or', 'equivalent', 'required', 'a', 'minimum', 'of', '2', 'years', 'loss', 'prevention', 'experience', 'required', 'certificates', 'licenses', 'registrations', 'none', 'supervisory', 'responsibilities', 'none', 'work', 'environmentphysical', 'demands', 'the', 'work', 'environment', 'characteristics', 'and', 'physical', 'demands', 'described', 'are', 'representative', 'of', 'those', 'an', 'employee', 'encounters', 'while', 'performing', 'the', 'essential', 'functions', 'of', 'this', 'job', 'reasonable', 'accommodations', 'may', 'be', 'made', 'to', 'enable', 'individuals', 'with', 'disabilities', 'to', 'perform', 'the', 'essential', 'functions', 'this', 'position', 'is', 'considered', 'sedentary', 'while', 'performing', 'the', 'duties', 'of', 'this', 'job', 'the', 'employee', 'is', 'regularly', 'required', 'to', 'stand', 'sit', 'talk', 'hear', 'and', 'use', 'hands', 'and', 'fingers', 'to', 'operate', 'a', 'computer', 'and', 'telephone', 'keyboard', 'reach', 'stoop', 'kneel', 'to', 'installmove', 'computer', 'equipment', 'the', 'employee', 'may', 'be', 'required', 'to', 'exert', 'up', 'to', '10', 'lbs', 'of', 'force', 'occasionally', 'andor', 'a', 'negligible', 'amount', 'of', 'force', 'frequently', 'or', 'constantly', 'to', 'lift', 'carry', 'push', 'pull', 'or', 'otherwise', 'move', 'objects', 'including', 'the', 'human', 'body', 'involves', 'sitting', 'most', 'of', 'the', 'time', 'but', 'may', 'involve', 'walking', 'or', 'standing', 'for', 'brief', 'periods', 'of', 'time', 'specific', 'vision', 'abilities', 'required', 'by', 'this', 'job', 'include', 'near', 'acuity', 'at', '20', 'inches', 'or', 'less', 'due', 'to', 'computer', 'work', 'while', 'performing', 'the', 'duties', 'of', 'this', 'job', 'the', 'employee', 'will', 'experience', 'a', 'moderate', 'noise', 'level', 'ie', 'business', 'office', 'with', 'computers', 'phone', 'and', 'printers', 'light', 'traffic', 'travel', 'requirements', 'this', 'position', 'does', 'not', 'require', 'travel', 'sportsman', '’', 's', 'warehouse', 'is', 'an', 'equal', 'opportunity', 'employer'], tags=[0])]\n"
     ]
    }
   ],
   "source": [
    "# training_corpus = list(tagged_x)\n",
    "training_data = list(tag_document(X_train))\n",
    "print(list(training_data)[:1])\n"
   ]
  },
  {
   "cell_type": "code",
   "execution_count": 174,
   "metadata": {},
   "outputs": [
    {
     "name": "stdout",
     "output_type": "stream",
     "text": [
      "Counter({0: 20592, 1: 302, 2: 40, 3: 8, 4: 3, 5: 2, 7: 1, 6: 1})\n"
     ]
    }
   ],
   "source": [
    "# assesing the model\n",
    "\n",
    "ranks = []\n",
    "second_ranks = []\n",
    "for doc_id in range(len(training_data)):\n",
    "    inferred_vector = baseline_model.infer_vector(training_data[doc_id].words)\n",
    "    sims = baseline_model.dv.most_similar([inferred_vector], topn=len(baseline_model.dv))\n",
    "    rank = [docid for docid, sim in sims].index(doc_id)\n",
    "    ranks.append(rank)\n",
    "\n",
    "    second_ranks.append(sims[1])\n",
    "\n",
    "counter = Counter(ranks)\n",
    "print(counter)"
   ]
  },
  {
   "cell_type": "code",
   "execution_count": 175,
   "metadata": {},
   "outputs": [
    {
     "name": "stdout",
     "output_type": "stream",
     "text": [
      "Document (20948): «background and drug screen required dot medical card required load box truck with telecom equipment and to deliver to the leads in the area load the debris from the locations take it back to the warehousedumpster 75 deliveries 25 general warehouse work shipping receiving cleaning up etc serious inquiries only job types fulltime contract pay 1600 1800 per hour benefits 401k life insurance paid time off schedule monday to friday education high school or equivalent preferred shift availability day shift preferred work location one location»\n",
      "\n",
      "SIMILAR/DISSIMILAR DOCS PER MODEL Doc2Vec(dm/m,d50,n5,w5,mc10,s0.001,t3):\n",
      "\n",
      "MOST (20948, 0.9767364263534546): «background and drug screen required dot medical card required load box truck with telecom equipment and to deliver to the leads in the area load the debris from the locations take it back to the warehousedumpster 75 deliveries 25 general warehouse work shipping receiving cleaning up etc serious inquiries only job types fulltime contract pay 1600 1800 per hour benefits 401k life insurance paid time off schedule monday to friday education high school or equivalent preferred shift availability day shift preferred work location one location»\n",
      "\n",
      "SECOND-MOST (1701, 0.7164867520332336): «looking for someone with experience with bmsems systems hvac controls and lighting control must have experience pulling cable in open air environments no conduit 100 traveling job company covers all expenses job type fulltime pay 1600 2500 per hour schedule 10 hour shift 12 hour shift 8 hour shift on call overtime supplemental pay bonus pay ability to commuterelocate interlachen fl reliably commute or planning to relocate before starting work preferred education high school or equivalent preferred work location on the road»\n",
      "\n",
      "MEDIAN (12782, 0.21892140805721283): «position sales supervisor reports to team leaders department store operations exemption status nonexempt position overview the sales supervisor grows department sales to achieve the store sales plan the sales supervisor responsibilities include aspects of merchandising customer service and store maintenance primary responsibilities greet and acknowledge every customer as they enter and exit the store and as they approach the department and front end be knowledgeable of all products promotions and advertisements to ensure that customer questions can be answered and to assist with selling product support ollie ’ s army and other donation programs throughout the year assist with receiving the truck and pricing items ensure that all product within the department is merchandised and recovered per the visual merchandise standards complete price changes within the department per company guidelines communicate customer needs to team leaders when necessary assist with training new associates accurately and efficiently operate the register maintain the cleanliness of the overall store complete any additional responsibilities andor duties as assigned qualifications high school diploma or equivalent preferred minimum of six months ’ retail experience in a midsize to large retail serviceoriented business ability to work evenings weekends and holidays on a regular basis ability to read write and speak english ability to exercise sound judgment ability to preserve confidentiality of information accuracy and attention to detail ability to organize and prioritize a variety of tasks and activities and work within strict timeframes and deadlines outstanding interpersonal and listening skills must have a positive attitude and the ability to interact well with customers and associates physical requirements ability to lift and carry up to 50 pounds ability to push and pull up to 35 pounds ability to stand for extended periods ability to bend and twist frequently ability to grip reach and pinch with arms and hands frequently ability to squat kneel balance and climb ladders occasionally ability to see hear and speak regularly ability to work in a constant state of alertness and safe manner ollie ’ s is an equal opportunity employer in compliance with federal and state equal opportunity laws qualified applicants are considered for all positions applied for without regard to race color religion sex sexual orientation and identity national origin age veteran ’ s status disability or any other legally protected status»\n",
      "\n",
      "LEAST (291, -0.3106442391872406): «this academic advisor will serve students and work alongside a dynamic team in the mark and robyn jones college of nursing which aims to transform nursing education and healthcare of montana through the generous philanthropic investment of 101 million from mark and robyn jones the founders of goosehead insurance this advisor will be one of the primary advisors for prenursing students pursing either a baccalaureate in nursing or an accelerated baccalaureate in nursing this advisor will be located on the bozeman campus duties and responsibilities provide indepth specialized andor comprehensive academic advising to prenursing students regarding class choices the nursing program university policies and procedures and other academic needs assist with transcript review for prospective and current students assist with application process for formal acceptance into the nursing program have indepth understanding of curricula in advising focus area as well as general knowledge of supporting coursework maintain positive connections with students faculty and staff understand resources for student services tutoring health and wellness etc participate in orientation advising and registration activities meet with prospective students and family members visiting campus participate in msu fridayssaturdays and other recruiting activities as appropriate coordinate communication of information related to important dates deadlines and procedures to advisees actively participate in advising commons meetings workshops trainings and committees perform other duties as assigned required qualifications – experience education knowledge skills bachelor ’ s degree in a relevant field with experience working with undergraduate college students in an academic or student support setting or an equivalent combination of education andor experience experience working with academic curricula degree requirements policies and procedures in a higher education setting demonstrated knowledge of higher education offices and resources that support student success preferred qualifications – experience education knowledge skills master ’ s degree in a relevant field experience working as an undergraduate academic advisor or student success coordinator experience working with enrollment and degree auditing software such as degreeworks catcourse banner myinfo andor relational database the successful candidate will possess strong interpersonal skills and enthusiasm to work with and guide students as they discover and attain their academic and life goals possess the ability to create positive rapport and strong working relationships with colleagues throughout the msu community to include administrators faculty staff other professional advisors and student support professionals possess strong written and oral communication skills possess the ability to troubleshoot problems and have candid conversations experience and awareness of how to manage and maintain confidential information have proven ability to work independently and in a team environment have the ability to represent the department college and university in a professional and courteous manner actively pursue training and professional development opportunities demonstrated ability to communicate effectively with diverse populations position special requirementsadditional information to perform this job successfully an individual must be able to perform each essential duty satisfactorily with or without reasonable accommodations the requirements listed above are representative of the knowledge skill andor ability required physical demands this job description should not be construed as an exhaustive statement of duties responsibilities or requirements but a general description of the job nothing contained herein restricts montana state university ’ s rights to assign or reassign duties and responsibilities to this job at any time this position has supervisory duties no number of vacancies desired start date position end date if temporary open date close date applications will be screening of applications will begin on december 21st 2021 however applications will continue to be accepted until an adequate applicant pool has been established special instructions diversity statement montana state university values diverse perspectives and is committed to continually supporting promoting and building an inclusive and culturally diverse campus environment msu recognizes the importance of worklife integration and strives to be responsive to the needs of montana state university is committed to providing a working and learning environment free from discrimination as such the university does not discriminate in the admission access to or conduct of its educational programs and activities nor in its employment policies and practices on the basis of an individual ’ s race color religion national origin creed service in the uniformed services as defined in state and federal law veteran ’ s status sex age political ideas marital or family status pregnancy physical or mental disability genetic information gender identity gender expression or sexual orientation in support of the university ’ s mission to be inclusive and diverse applications from qualified minorities women veterans and persons with disabilities are highly encouraged montana state university makes accommodation for any known disability that may interfere with an applicant ’ s ability to compete in the hiring process or an employee ’ s ability to perform the duties of the job to request an accommodation contact the human resources office po box 172520 montana state university bozeman mt 597172520 4069943651 recruitmentmontanaedu in compliance with the montana veteran ’ s employment preference act msu provides preference in employment to veterans disabled veterans and certain eligible relatives of veterans to claim veteran ’ s preference please complete the veteran ’ s preference information located in the demographics section of your profile msu ’ s nondiscrimination policy and discrimination grievance procedures can be located on the msu website httpswwwmontanaeduequitypoliciesgrievanceprocedureshtml»\n",
      "\n"
     ]
    }
   ],
   "source": [
    "print('Document ({}): «{}»\\n'.format(doc_id, ' '.join(training_data[doc_id].words)))\n",
    "print(u'SIMILAR/DISSIMILAR DOCS PER MODEL %s:\\n' % baseline_model)\n",
    "for label, index in [('MOST', 0), ('SECOND-MOST', 1), ('MEDIAN', len(sims)//2), ('LEAST', len(sims) - 1)]:\n",
    "    print(u'%s %s: «%s»\\n' % (label, sims[index], ' '.join(training_data[sims[index][0]].words)))\n",
    "# for label, index in [('MOST', 0), ('SECOND-MOST', 1), ('MEDIAN', len(sims)//2), ('LEAST', len(sims) - 1)]:\n",
    "#     print(u'%s %s: «%s»\\n' % (label, sims[index], ' training corupurs'))"
   ]
  },
  {
   "cell_type": "code",
   "execution_count": 176,
   "metadata": {},
   "outputs": [
    {
     "name": "stdout",
     "output_type": "stream",
     "text": [
      "Train Document (3110): <<senior electrical engineer mks instruments power solutions products provides the plasma and control solutions that is a key supplier to the worlds ’ largest electronics producers plasma control presents many technical challenges that needs innovative thinking and inquisitive engineering minds if this sounds like you then we want to meet you we are looking for an exceptional senior electrical engineer who will design develop modify and evaluate electronic systems for high power equipment for the semiconductor processing industry as part of a crossfunctional team you will help determine design architecture lead system development analyze systemlevel performance data and drive problem solving exercises to ensure reliable designs to meet customer requirements this position is located in rochester ny what you will do design and productize leading edge high efficiency rf power equipment for thin films processing familiarity with power amplifier topologies class ab class c class e class d etc familiarity with passive subassembly designs such as filters combiners dividers etc develop system level specifications and architecture to meet internal and external customer requirements work with hardware and software teams to develop and design control architectures and systemlevel features to meet customer requirements work closely with customer and other internal teams to troubleshoot system performance understand and facilitate fault tree analysis and fmea failure mode effects analysis studies your skills bsee or equivalent and 5 years of experience in semiconductor or another related electronics field experience with circuit simulation tools eg spice agilent ads microwave office etc experience with advanced data analysis tools eg matlabsimulink excellent verbal and written communication skills creationpresentation of technical material to a broad audience high level of curiosity and adaptability to support multiple efforts simultaneously in a fastpaced work environment job type fulltime pay 8088300 11500000 per year benefits 401k 401k matching dental insurance employee assistance program employee discount flexible schedule flexible spending account health insurance health savings account life insurance paid time off parental leave professional development assistance referral program tuition reimbursement vision insurance schedule 8 hour shift day shift ability to commuterelocate rochester ny 14623 reliably commute or planning to relocate before starting work required application questions will you now or in the future require sponsorship for an immigrationrelated employment benefit ” education bachelors required experience rf systems 5 years preferred work location one location work remotely no work location one location>>\n",
      "\n",
      "Similar Document (18389, 0.76884925365448): <<bae systems employees work on the world ’ s most advanced electronics – from detecting threats for f35 pilots to illuminating the night for soldiers we are seeking technology driven engineers who want to work on leading edge programs while also having a flexible work environment bae systems is looking for a test software engineer to join the growing integrated test engineering ite organization the ite organization ’ s mission is to deliver customerfocused affordable test solutions which are integrated across all levels of test in this role you will design develop and implement testing methods and equipment you will work on resolving issues and change requests to update the test software that are critical to keep our production lines moving in this role you will develop test software to support inprocess testing ipt environmental stress screening ess and acceptance test procedures atp on products ranging from component level to systems level analog digital and rf units join bae and help us in our mission as we protect those who protect us we support our employees with a flexible 980 work schedule technical training and career growth planning please note that pursuant to a government contract this specific position requires us citizenship status required education experience skills test solution planning and integration advanced skills to support rf testing bachelors degree and 6 years work experience or equivalent experience possess good communication skills including interpersonal communication and team communication takes initiative and has a closureoriented nature advanced knowledge in using automated test instrumentation network analyzer spectrum analyzer signal generators etc preferred education experience skills experience in factory production test stands problem isolation and resolution debug skills experienced in using rf test instrumentation network analyzer spectrum analyzer signal generators etc tools experience using ni labwindows cvi and teststand ability to perform test solution development hardware focus test adapters cables tools and interface modules and software focus drivers utilities executives and test software experience leading small teams about bae systems electronic systems bae systems inc is the us subsidiary of bae systems plc an international defense aerospace and security company which delivers a full range of products and services for air land and naval forces as well as advanced electronics security information technology solutions and customer support services improving the future and protecting lives is an ambitious mission but it ’ s what we do at bae systems working here means using your passion and ingenuity where it counts – defending national security with breakthrough technology superior products and intelligence solutions as you develop the latest technology and defend national security you will continually hone your skills on a team—making a big impact on a global scale at bae systems you ’ ll find a rewarding career that truly makes a difference electronic systems es is the global innovator behind bae systems ’ gamechanging defense and commercial electronics exploiting every electron we push the limits of what is possible giving our customers the edge and our employees opportunities to change the world our products and capabilities can be found everywhere – from the depths of the ocean to the far reaches of space at our core are more than 14000 highly talented electronic systems employees with the brightest minds in the industry we make an impact – for our customers and the communities we serve at bae systems we celebrate the array of skills experiences and perspectives our employees bring to the table for us differences are a source of strength we ’ re laserfocused on high performance and we work hard every day to nurture an inclusive culture where all employees can innovate and thrive here you will not only build your career but you will also enjoy worklife balance uncover new experiences and collaborate with passionate colleagues>>\n",
      "\n"
     ]
    }
   ],
   "source": [
    "import random\n",
    "doc_id = random.randint(0, len(training_data)-1)\n",
    "\n",
    "# compare and print the second most similar document\n",
    "print('Train Document ({}): <<{}>>\\n'.format(doc_id, ' '.join(training_data[doc_id].words)))\n",
    "sim_id = second_ranks[doc_id]\n",
    "print('Similar Document {}: <<{}>>\\n'.format(sim_id, ' '.join(training_data[sim_id[0]].words)))"
   ]
  },
  {
   "cell_type": "code",
   "execution_count": 177,
   "metadata": {},
   "outputs": [
    {
     "name": "stdout",
     "output_type": "stream",
     "text": [
      "Counter({'healthcare': 1094, 'administrative': 1073, 'manufacturing_mechanical': 675, 'construction_facilities': 668, 'computer_internet': 655, 'sales': 584, 'transportation_logistics': 556, 'restaurant_food_service': 517, 'customer_service': 424, 'retail': 337, 'accounting_finance': 311, 'engineering_architecture': 309, 'education_training': 285, 'upper_management_consulting': 204, 'human_resources': 202, 'marketing_advertising_pr': 191, 'banking_loans': 141, 'non-profit_volunteering': 109, 'insurance': 100, 'hospitality_travel': 98, 'law_enforcement_security': 95, 'arts_entertainment_publishing': 82, 'legal': 68, 'pharmaceutical_bio-tech': 61, 'real_estate': 55, 'telecommunications': 55, 'government_military': 30})\n"
     ]
    },
    {
     "data": {
      "text/plain": [
       "55"
      ]
     },
     "execution_count": 177,
     "metadata": {},
     "output_type": "execute_result"
    }
   ],
   "source": [
    "\n",
    "cat_dict_test_clean = {cat: [] for cat in y_test}\n",
    "# print(cat_dict_test_clean)\n",
    "for i, v in enumerate(X_test):\n",
    "    \n",
    "    cat_dict_test_clean[y_test[i]].append(v)\n",
    "# len(cat_dict_test_clean.values())\n",
    "# len(X_test)\n",
    "print(Counter(y_test))\n",
    "len(cat_dict_test_clean['telecommunications'])"
   ]
  },
  {
   "cell_type": "code",
   "execution_count": 178,
   "metadata": {},
   "outputs": [
    {
     "name": "stdout",
     "output_type": "stream",
     "text": [
      "[-0.54000103 -1.7815771  -0.01822292  1.3970417  -0.6052036  -1.6282384\n",
      "  0.67797077 -1.5123386  -1.3855098   1.7619376   1.4525471  -0.23652257\n",
      "  0.53050756 -1.4712969   0.18086226  0.10112073  0.12608562 -0.78034097\n",
      " -2.7077274   2.5269616   0.11072759  0.86593026 -0.76860225  1.3190836\n",
      " -3.257572    1.0147134  -0.14026503  0.05470254 -1.2703363   2.824476\n",
      "  1.6340835   1.1205475   0.6687991  -2.3340898  -0.23435831 -0.3902723\n",
      "  0.88627875  0.6476853   0.12789269 -0.32600844  0.83350426  1.46178\n",
      " -1.7818257  -1.0799935   0.04380473 -1.0037669   0.41418263  0.884764\n",
      "  3.266313   -1.4845078 ]\n",
      "{'restaurant_food_service': 517, 'healthcare': 1094, 'marketing_advertising_pr': 191, 'non-profit_volunteering': 109, 'human_resources': 202, 'law_enforcement_security': 95, 'insurance': 100, 'hospitality_travel': 98, 'administrative': 1073, 'computer_internet': 655, 'manufacturing_mechanical': 675, 'construction_facilities': 668, 'transportation_logistics': 556, 'sales': 584, 'retail': 337, 'education_training': 285, 'upper_management_consulting': 204, 'government_military': 30, 'customer_service': 424, 'accounting_finance': 311, 'engineering_architecture': 309, 'pharmaceutical_bio-tech': 61, 'real_estate': 55, 'banking_loans': 141, 'arts_entertainment_publishing': 82, 'telecommunications': 55, 'legal': 68}\n"
     ]
    }
   ],
   "source": [
    "metadata = {}\n",
    "infered_vector_test = {} # contains, categor-wise, inferred doc vecs for each document in the test set\n",
    "for cat, docs in cat_dict_test_clean.items():\n",
    "    infered_vector_test[cat] = [baseline_model.infer_vector(doc) for doc in list(docs)]\n",
    "    metadata[cat] = len(infered_vector_test[cat])\n",
    "print(infered_vector_test['sales'][0])\n",
    "print(metadata)"
   ]
  },
  {
   "cell_type": "code",
   "execution_count": 179,
   "metadata": {},
   "outputs": [],
   "source": [
    "import csv\n",
    "\n",
    "def write_to_csv(input, output_file, delimeter='\\t'):\n",
    "    with open(output_file, \"w\") as f:\n",
    "        writer = csv.writer(f, delimiter=delimeter)\n",
    "        writer.writerows(input)\n",
    "        \n",
    "veclist_metadata = []\n",
    "veclist = []\n",
    "\n",
    "for cat in cat_dict_test_clean.keys():\n",
    "    for tag in [cat]*metadata[cat]:\n",
    "        veclist_metadata.append([tag])\n",
    "    for vec in infered_vector_test[cat]:\n",
    "        veclist.append(list(vec))\n",
    "        \n",
    "write_to_csv(veclist, \"doc2vec_indeed_large_jds_test_vectors.csv\")\n",
    "write_to_csv(veclist_metadata, \"doc2vec_indeed_large_jds_test_vectors_metadata.csv\")"
   ]
  },
  {
   "cell_type": "code",
   "execution_count": 187,
   "metadata": {},
   "outputs": [],
   "source": [
    "type(X_train[0])\n",
    "x = ['a','b','c']\n",
    "' '.join(x)\n",
    "all_td = [jd for sub_jd in X_train for jd in sub_jd]\n",
    "\n",
    "   "
   ]
  },
  {
   "cell_type": "code",
   "execution_count": 189,
   "metadata": {},
   "outputs": [],
   "source": [
    "my_counter = Counter(all_td)\n"
   ]
  },
  {
   "cell_type": "code",
   "execution_count": 190,
   "metadata": {},
   "outputs": [],
   "source": [
    "def print_sorted_items(dict, n=10, order='ascending'):\n",
    "    if order == 'descending':\n",
    "        multiplier = -1\n",
    "    else:\n",
    "        multiplier = 1\n",
    "    ranked = sorted(dict.items(), key=lambda x: x[1] * multiplier)\n",
    "    for key, value in ranked[:n] :\n",
    "        print(key, value)"
   ]
  },
  {
   "cell_type": "code",
   "execution_count": 194,
   "metadata": {},
   "outputs": [
    {
     "name": "stdout",
     "output_type": "stream",
     "text": [
      "and 587819\n",
      "to 335509\n",
      "the 293906\n",
      "of 240816\n",
      "a 170158\n",
      "in 160023\n",
      "with 128349\n",
      "for 123051\n",
      "or 93793\n",
      "is 76329\n",
      "as 75727\n",
      "work 68534\n",
      "experience 62337\n",
      "our 62282\n",
      "be 61826\n",
      "are 58128\n",
      "you 57103\n",
      "we 55613\n",
      "on 50352\n",
      "all 49756\n",
      "an 44674\n",
      "will 40053\n",
      "that 40000\n",
      "’ 38331\n",
      "required 38223\n",
      "ability 38167\n",
      "team 36806\n",
      "job 36728\n",
      "by 35861\n",
      "this 35820\n",
      "skills 34851\n",
      "at 33720\n",
      "other 32366\n",
      "must 30653\n",
      "your 28384\n",
      "service 25796\n",
      "s 25568\n",
      "have 25090\n",
      "management 24976\n",
      "position 24829\n",
      "including 24021\n",
      "preferred 23044\n",
      "customer 22934\n",
      "time 22830\n",
      "company 22311\n",
      "insurance 21852\n",
      "from 21454\n",
      "health 20960\n",
      "business 20896\n",
      "years 20723\n",
      "information 20200\n",
      "care 19912\n",
      "requirements 19869\n",
      "support 19447\n",
      "knowledge 19439\n",
      "benefits 19416\n",
      "location 18910\n",
      "environment 18900\n",
      "duties 18837\n",
      "not 18494\n",
      "may 18183\n",
      "services 18050\n",
      "provide 17847\n",
      "employees 17362\n",
      "working 16791\n",
      "ensure 16622\n",
      "employee 16622\n",
      "their 16579\n",
      "responsibilities 16327\n",
      "education 16215\n",
      "new 15583\n",
      "program 15512\n",
      "one 15394\n",
      "development 15299\n",
      "training 15284\n",
      "equipment 15166\n",
      "sales 14984\n",
      "able 14843\n",
      "perform 14729\n",
      "customers 14632\n",
      "pay 14581\n",
      "employment 14490\n",
      "high 14398\n",
      "opportunity 14094\n",
      "maintain 14058\n",
      "any 13978\n",
      "status 13821\n",
      "medical 13742\n",
      "andor 13699\n",
      "more 13642\n",
      "procedures 13542\n",
      "quality 13431\n",
      "if 13171\n",
      "us 13094\n",
      "qualifications 13088\n",
      "related 13081\n",
      "office 13014\n",
      "shift 12997\n",
      "strong 12983\n",
      "schedule 12855\n"
     ]
    }
   ],
   "source": [
    "print_sorted_items(my_counter, n=100, order='descending')"
   ]
  }
 ],
 "metadata": {
  "kernelspec": {
   "display_name": "base",
   "language": "python",
   "name": "python3"
  },
  "language_info": {
   "codemirror_mode": {
    "name": "ipython",
    "version": 3
   },
   "file_extension": ".py",
   "mimetype": "text/x-python",
   "name": "python",
   "nbconvert_exporter": "python",
   "pygments_lexer": "ipython3",
   "version": "3.9.12"
  },
  "orig_nbformat": 4,
  "vscode": {
   "interpreter": {
    "hash": "a12e877c04624be958b30f1ec8c927f186552dcee8ba212203c3dd40ba478394"
   }
  }
 },
 "nbformat": 4,
 "nbformat_minor": 2
}
