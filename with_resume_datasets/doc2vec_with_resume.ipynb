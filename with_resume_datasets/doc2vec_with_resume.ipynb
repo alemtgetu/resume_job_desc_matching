{
 "cells": [
  {
   "cell_type": "code",
   "execution_count": 7,
   "metadata": {},
   "outputs": [],
   "source": [
    "import pandas as pd\n",
    "import re"
   ]
  },
  {
   "cell_type": "code",
   "execution_count": 3,
   "metadata": {},
   "outputs": [
    {
     "data": {
      "text/plain": [
       "<bound method NDFrame.head of          Category                                             Resume\n",
       "0    Data Science  Skills * Programming Languages: Python (pandas...\n",
       "1    Data Science  Education Details \\nMay 2013 to May 2017 B.E  ...\n",
       "2    Data Science  Areas of Interest Deep Learning, Control Syste...\n",
       "3    Data Science  Skills â¢ R â¢ Python â¢ SAP HANA â¢ Table...\n",
       "4    Data Science  Education Details \\n MCA   YMCAUST,  Faridabad...\n",
       "..            ...                                                ...\n",
       "957       Testing  Computer Skills: â¢ Proficient in MS office (...\n",
       "958       Testing  â Willingness to accept the challenges. â ...\n",
       "959       Testing  PERSONAL SKILLS â¢ Quick learner, â¢ Eagerne...\n",
       "960       Testing  COMPUTER SKILLS & SOFTWARE KNOWLEDGE MS-Power ...\n",
       "961       Testing  Skill Set OS Windows XP/7/8/8.1/10 Database MY...\n",
       "\n",
       "[962 rows x 2 columns]>"
      ]
     },
     "execution_count": 3,
     "metadata": {},
     "output_type": "execute_result"
    }
   ],
   "source": [
    "resume_df = pd.read_csv('UpdatedResumeDataSet.csv')\n",
    "resume_df.head"
   ]
  },
  {
   "cell_type": "code",
   "execution_count": 24,
   "metadata": {},
   "outputs": [],
   "source": [
    "from gensim.parsing.preprocessing import preprocess_string\n",
    "from gensim.parsing.preprocessing import remove_stopwords\n",
    "from gensim.parsing.preprocessing import split_on_space\n",
    "from gensim.parsing.preprocessing import strip_multiple_whitespaces\n",
    "from gensim.parsing.preprocessing import strip_non_alphanum\n",
    "from gensim.parsing.preprocessing import strip_punctuation\n",
    "\n",
    "\n",
    "def clean_strings(data):\n",
    "    data = remove_stopwords(data)\n",
    "    data = strip_multiple_whitespaces(data)\n",
    "    data = strip_non_alphanum(data)\n",
    "    data = strip_punctuation(data)\n",
    "    data = split_on_space(data.lower())\n",
    "    return data"
   ]
  },
  {
   "cell_type": "code",
   "execution_count": 17,
   "metadata": {},
   "outputs": [
    {
     "data": {
      "text/plain": [
       "'Better_late_than_never,_but_the_never_late'"
      ]
     },
     "execution_count": 17,
     "metadata": {},
     "output_type": "execute_result"
    }
   ],
   "source": [
    "x = \"Better late than never, but the never late\"\n",
    "y = re.sub(r'\\s+', '_', x)\n",
    "y"
   ]
  },
  {
   "cell_type": "code",
   "execution_count": 33,
   "metadata": {},
   "outputs": [],
   "source": [
    "def read_and_clean_data(filename):\n",
    "    resume_df = pd.read_csv(filename)\n",
    "    column_names = [\"Category\", \"Resume\"]\n",
    "    # all_data = {}\n",
    "    categories = []\n",
    "    resumes = []\n",
    "    for i, row in resume_df.iterrows():\n",
    "        category = row[column_names[0]].lower()\n",
    "        category = re.sub(r'\\s+','_',category)\n",
    "        resume = row[column_names[1]]\n",
    "        resume = clean_strings(resume)\n",
    "        categories.append(category)\n",
    "        resumes.append(resume)\n",
    "        # print(category)\n",
    "        # print(resume)\n",
    "        # break\n",
    "        # if category in all_data.keys():\n",
    "        #     all_data[category].append(resume)\n",
    "        # else:\n",
    "        #     all_data[category] = [resume]\n",
    "    return categories, resumes"
   ]
  },
  {
   "cell_type": "code",
   "execution_count": null,
   "metadata": {},
   "outputs": [],
   "source": [
    "from collections import Counter\n",
    "# Counter(all_data.keys())\n",
    "categories, resumes = read_and_clean_data('UpdatedResumeDataSet.csv') \n",
    "print(resumes[0])"
   ]
  },
  {
   "cell_type": "code",
   "execution_count": 38,
   "metadata": {},
   "outputs": [],
   "source": [
    "from sklearn.model_selection import train_test_split\n",
    "\n",
    "# train test split\n",
    "def split_training_set(jds, labels, test_size=0.3, random_seed=42):\n",
    "    X_train, X_test, y_train, y_test = train_test_split(jds, labels, test_size=test_size, random_state=random_seed, stratify=labels)\n",
    "    print(\"Training set label counts: {}\".format(Counter(y_train)))\n",
    "    print(\"Test set     label counts: {}\".format(Counter(y_test)))\n",
    "    return X_train, X_test, y_train, y_test"
   ]
  },
  {
   "cell_type": "code",
   "execution_count": 39,
   "metadata": {},
   "outputs": [
    {
     "name": "stdout",
     "output_type": "stream",
     "text": [
      "Training set label counts: Counter({'java_developer': 59, 'testing': 49, 'devops_engineer': 38, 'python_developer': 34, 'hr': 31, 'web_designing': 31, 'hadoop': 29, 'sales': 28, 'etl_developer': 28, 'data_science': 28, 'blockchain': 28, 'operations_manager': 28, 'mechanical_engineer': 28, 'arts': 25, 'database': 23, 'health_and_fitness': 21, 'electrical_engineering': 21, 'pmo': 21, 'business_analyst': 20, 'dotnet_developer': 20, 'automation_testing': 18, 'sap_developer': 17, 'network_security_engineer': 17, 'civil_engineer': 17, 'advocate': 14})\n",
      "Test set     label counts: Counter({'java_developer': 25, 'testing': 21, 'devops_engineer': 17, 'python_developer': 14, 'web_designing': 14, 'hr': 13, 'hadoop': 13, 'mechanical_engineer': 12, 'data_science': 12, 'blockchain': 12, 'etl_developer': 12, 'sales': 12, 'operations_manager': 12, 'arts': 11, 'database': 10, 'pmo': 9, 'electrical_engineering': 9, 'health_and_fitness': 9, 'business_analyst': 8, 'dotnet_developer': 8, 'network_security_engineer': 8, 'automation_testing': 8, 'sap_developer': 7, 'civil_engineer': 7, 'advocate': 6})\n"
     ]
    }
   ],
   "source": [
    "X_train, X_test, y_train, y_test = split_training_set(resumes, categories)\n"
   ]
  },
  {
   "cell_type": "code",
   "execution_count": 40,
   "metadata": {},
   "outputs": [],
   "source": [
    "from gensim.models.doc2vec import Doc2Vec, TaggedDocument\n",
    "\n",
    "def tag_document(list_of_list_of_words):\n",
    "    for i, list_of_words in enumerate(list_of_list_of_words):\n",
    "        yield TaggedDocument(list_of_words, [i])"
   ]
  },
  {
   "cell_type": "code",
   "execution_count": 41,
   "metadata": {},
   "outputs": [],
   "source": [
    "def train_model(data):\n",
    "    \n",
    "    # tagged_data = [TaggedDocument(words = word_tokenize(_d.lower()), tags = [str(i)]) for i, _d in enumerate(data)]\n",
    "\n",
    "    tagged_data = list(tag_document(data))\n",
    "    # initialize model\n",
    "    model = Doc2Vec(vector_size=50, min_count=10, epochs=50)\n",
    "    # vocabulary building\n",
    "    model.build_vocab(tagged_data)\n",
    "   \n",
    "    print(type(tagged_data))\n",
    "    model.train(tagged_data, total_examples=model.corpus_count, epochs=model.epochs)\n",
    "    model_name = 'doc2vec_resumes_trained_model'\n",
    "    model.save(model_name)\n",
    "    print(\"Model saved\")\n",
    "    return model_name"
   ]
  },
  {
   "cell_type": "code",
   "execution_count": 42,
   "metadata": {},
   "outputs": [
    {
     "name": "stdout",
     "output_type": "stream",
     "text": [
      "<class 'list'>\n",
      "Model saved\n"
     ]
    }
   ],
   "source": [
    "# train model\n",
    "model_name = train_model(X_train)\n"
   ]
  },
  {
   "cell_type": "code",
   "execution_count": 43,
   "metadata": {},
   "outputs": [],
   "source": [
    "# get model\n",
    "# model _2 is trained with larger dataset\n",
    "baseline_model = Doc2Vec.load(model_name)"
   ]
  },
  {
   "cell_type": "code",
   "execution_count": 44,
   "metadata": {},
   "outputs": [],
   "source": [
    "\n",
    "training_data = list(tag_document(X_train))"
   ]
  },
  {
   "cell_type": "code",
   "execution_count": 48,
   "metadata": {},
   "outputs": [
    {
     "name": "stdout",
     "output_type": "stream",
     "text": [
      "Counter({0: 161, 1: 151, 2: 133, 3: 84, 4: 61, 5: 41, 6: 16, 8: 11, 7: 6, 12: 4, 9: 2, 10: 2, 11: 1})\n"
     ]
    }
   ],
   "source": [
    "ranks = []\n",
    "second_ranks = []\n",
    "for doc_id in range(len(training_data)):\n",
    "    inferred_vector = baseline_model.infer_vector(training_data[doc_id].words)\n",
    "    sims = baseline_model.dv.most_similar([inferred_vector], topn=len(baseline_model.dv))\n",
    "    rank = [docid for docid, sim in sims].index(doc_id)\n",
    "    ranks.append(rank)\n",
    "\n",
    "    second_ranks.append(sims[1])\n",
    "\n",
    "counter = Counter(ranks)\n",
    "print(counter)"
   ]
  },
  {
   "cell_type": "code",
   "execution_count": 49,
   "metadata": {},
   "outputs": [
    {
     "name": "stdout",
     "output_type": "stream",
     "text": [
      "Document (672): «computer skills â proficient ms office word basic excel power point strength â hard working loyalty creativity â self motivated responsible initiative â good people management skill positive attitude â knowledge windows internet education details bachelor electrical engineering electrical engineering nashik maharashtra guru gobind singh college engineering research centre diploma electrical engineering nashik maharashtra s m e s polytechnic college testing engineer skill details excel exprience 6 months ms office exprience 6 months word exprience 6 monthscompany details company description department testing responsibilities â to check acb vcb circuit breaker â following test conducted circuit breaker drawing 1 to check breaker timing 2 to check contact resistance contact resistance meter crm 3 to check breaker insulation resistance ir 4 to check breaker rack rack properly not 5 to check closing tripping operation work properly not â to check following test conducted mcc pcc panel 1 insulation resistance ir test 2 contact resistance crm test 3 to check connection mcc pcc panel drawing â to check following test conducted transformer 1 insulation resistance ir test 2 transformer ratio test 3 transformer vector group test 4 magnetic balance test 5 magnetic current test 6 to check transformer tapping remotely manually 7 to check alarm tripping protection command work properly or circuit diagram â to check test conducted hv cables 1 hi pot test 2 insulation resistance ir test â to check lv cables megger ir test â to check relay connections circuit diagram create defects list arising testing try solution minimize problem company trans power solutions description lake site co op soc adi shankaracharya marg opp iit main gate powai 400076»\n",
      "\n",
      "SIMILAR/DISSIMILAR DOCS PER MODEL Doc2Vec(dm/m,d50,n5,w5,mc10,s0.001,t3):\n",
      "\n",
      "MOST (437, 0.9852760434150696): «computer skills â proficient ms office word basic excel power point strength â hard working loyalty creativity â self motivated responsible initiative â good people management skill positive attitude â knowledge windows internet education details bachelor electrical engineering electrical engineering nashik maharashtra guru gobind singh college engineering research centre diploma electrical engineering nashik maharashtra s m e s polytechnic college testing engineer skill details excel exprience 6 months ms office exprience 6 months word exprience 6 monthscompany details company description department testing responsibilities â to check acb vcb circuit breaker â following test conducted circuit breaker drawing 1 to check breaker timing 2 to check contact resistance contact resistance meter crm 3 to check breaker insulation resistance ir 4 to check breaker rack rack properly not 5 to check closing tripping operation work properly not â to check following test conducted mcc pcc panel 1 insulation resistance ir test 2 contact resistance crm test 3 to check connection mcc pcc panel drawing â to check following test conducted transformer 1 insulation resistance ir test 2 transformer ratio test 3 transformer vector group test 4 magnetic balance test 5 magnetic current test 6 to check transformer tapping remotely manually 7 to check alarm tripping protection command work properly or circuit diagram â to check test conducted hv cables 1 hi pot test 2 insulation resistance ir test â to check lv cables megger ir test â to check relay connections circuit diagram create defects list arising testing try solution minimize problem company trans power solutions description lake site co op soc adi shankaracharya marg opp iit main gate powai 400076»\n",
      "\n",
      "SECOND-MOST (399, 0.9826517701148987): «computer skills â proficient ms office word basic excel power point strength â hard working loyalty creativity â self motivated responsible initiative â good people management skill positive attitude â knowledge windows internet education details bachelor electrical engineering electrical engineering nashik maharashtra guru gobind singh college engineering research centre diploma electrical engineering nashik maharashtra s m e s polytechnic college testing engineer skill details excel exprience 6 months ms office exprience 6 months word exprience 6 monthscompany details company description department testing responsibilities â to check acb vcb circuit breaker â following test conducted circuit breaker drawing 1 to check breaker timing 2 to check contact resistance contact resistance meter crm 3 to check breaker insulation resistance ir 4 to check breaker rack rack properly not 5 to check closing tripping operation work properly not â to check following test conducted mcc pcc panel 1 insulation resistance ir test 2 contact resistance crm test 3 to check connection mcc pcc panel drawing â to check following test conducted transformer 1 insulation resistance ir test 2 transformer ratio test 3 transformer vector group test 4 magnetic balance test 5 magnetic current test 6 to check transformer tapping remotely manually 7 to check alarm tripping protection command work properly or circuit diagram â to check test conducted hv cables 1 hi pot test 2 insulation resistance ir test â to check lv cables megger ir test â to check relay connections circuit diagram create defects list arising testing try solution minimize problem company trans power solutions description lake site co op soc adi shankaracharya marg opp iit main gate powai 400076»\n",
      "\n",
      "MEDIAN (27, 0.49384763836860657): «technical skills languages python python framework django drf databases mysql oracle sqlite mongodb web technologies css html restful web services rest methodologies agile scrum version control github project managent tool jira operating systems window unix education details be dr bamu aurangabad python developer python developer arsys inovics pvt skill details css exprience 31 months django exprience 31 months html exprience 31 months mysql exprience 31 months python exprience 31 months web services exprience less 1 year months logger exprience less 1 year months mongodb exprience less 1 year months json exprience less 1 year months unix exprience less 1 year months rest exprience less 1 year months sqlit3 exprience less 1 year monthscompany details company arsys inovics pvt description project f mas frequency monitoring analysis systems f mas f mas project managing network inventory network communication fault management network traffic analysis the telecommunications service providers support range telecommunication services the operations support systems oss collectively provides support elements public switched telephone networks example processing order require information services customer has network using currently available resources responsibilities â participated entire lifecycle projects including design development deployment testing implementation support â developed views templates python django s view controller templating language created user friendly website interface â implemented navigation rules application page outcomes written controllers annotations â created project django django rest api mysql pymysql python html5 css3 â created crud methods get post put delete requests api server tested restful api postman â created unit test cases unit testing â worked json based rest web services â wrote python routines log websites fetch data selected options â used python modules requests urllib web crawling â added navigations paginations filtering columns adding removing desired columns view â created git repository added project github â utilized agile process jira issue management track sprint cycles â worked agile development environment environment python django mysql html css sqlalchemy json agile web services rest urllib company arsys description 1 working end end developer 2 working rest restfull api s 3 design develop project agile scrum 4 git hub code deployment 5 working mvt»\n",
      "\n",
      "LEAST (281, -0.07527979463338852): «technical skills key skills ms technology net sharepoint ms sql oracle pl sql project management execution cloud computing windows azure amazon aws ec2 cloud xml xaml xslt html5 dhtml css3 javascript jquery json angularjs web api odata service vbscript node js handling dynamic qa activities project delivery frameworks ui design mobile development java jsp swing j2ee service oriented architecture soa web service wcf service web api requirement gathering design pattern like mvc mvp abstract factory ooad uml implementation net sap connector interact sap asp net client management sap web channel sap enterprise portal environment android ios team foundation server 2010 12 tfs github ibm rational key account management devops team forge sharepoint portal administration development collabnet jira iot implementation web data analytics working road map machine learning ai expertise bi tools like crystal report escalation management ssrs tableau micro strategy qlikview it network infrastructure monitoring tool centreon cisco meraki biztalk bam team building leadership liaison coordination soft skills reporting documentation leader technical architect time management thinker collaborator planner information security management communicator quality assurance career timeline recent 5 companies reliance ada annet technologies aditya birla group software project group project consultant lead technical manager architect 2006 2007 2008 2009 2009 2012 2012 2013 2013 till date northbound eclerx software llc service programmer technical project analyst managereducation details january 1998 bachelor art economics dibrugarh assam in dibrugarh university mba information technology sikkim manipal university software engineering computer science pune maharashtra niit project manager project manager aditya birla group skill details microsoft sharepoint exprience 147 months sharepoint exprience 147 months sql exprience 92 months asp exprience 79 months asp net exprience 76 monthscompany details company aditya birla group description reporting vice president company opex monitoring multiple db server web server cloud base description period apr 2013 till date working with â project management processes ongoing projects coordinating different projects team internal development team vendor team qa activities â information security audit budgeting capex opex monitoring multiple db server web server cloud base servers resource utilization networking infrastructure different hardware networking surveillance tools â tracking different team projects activities involved generating final monthly report different kpi organization higher authority â managing sharepoint portal admin activities project functional technical business documents â involved technology road map group upgrade new technology like iot virtual reality wearable technology machine learning ai 3d printing at eclerx software service mumbai company eclerx software service description company dell site search natural search db description environment asp net 4 0 c wcf ssrs sql server 2008 r2 at annet technologies mumbai company nextgen enterprise description aria 2 re manage portal integration apple iphone ipad different android devices domain real state period mar 2011 oct 2012 environment asp net 4 0 c wcf wwf jquery json javascript html 5 css3 windows azure cloud sharepoint company annet technologies description key result areas administering project progress scheduled deadlines tasks taking necessary steps ensuring completion time effort parameters working mapping requirements providing best solutions evaluating defining scope project finalizing project requirements interfacing clients business gathering conducting analysis finalizing technical specifications verifying project documentation technical functional sharepoint documents library environment performing sharepoint administrative activities significant accomplishments rolled project performance metrics reporting implemented profitability improvement plans enhanced operational efficiency received following awards o excellent design on time delivery award o design delivery excellence award previous experience company genentech biogen astellas pharma polaris description client genentech biogen astellas pharma polaris new york usa environment asp net 3 5 c n hibernet wcf wwf javascript jquery biztalk server 2009 sql server 2008 r2 at northbound llc sunnyvale california company ios description sql server 2008r2 android ios company logistic transport system ohio description usa environment asp net c 3 5 javascript nunit test telerik controls sql server 2005 t sql moss 2007 ssis ssrs biztalk2006 crystal report n hibernet dreamweaver company northbound llc description company biz automation crm description california usa environment asp net 3 5 c sql server 2005 android ios development platform xml xslt javascript jquery json sharepoint design wcf wwf sharepoint 2007 performance point ssrs company wachovia north carolina usa description environment asp net c wcf sql server 2005 web parts javascript ajax at reliance ada group mumbai title 1 complain management system 2 company information system company domain manufacturing human resource description environment asp net c oracle 8i pl sql crystal report sap connector vpn company reliance ada group description company pf trust system description environment vb net xml oracle 9i pl sql toad crystal report 11 sure solution prasanna group company it pune company prasanna group description company online bus booking portal description environment asp net c sql server 2005 web services web parts ms office sharepoint design ajax java cript at info dynamic software system pvt ltd pune title info banking e banking domain banking period jan 2005 aug 2005 environment vb6 oracle 8i pl sql crystal report java jsp servlet swing at pan software system pvt ltd pune title e commerce site online sales purchase company info dynamic software system pvt ltd description company zd doll inc description newcastle uk company pan software system pvt ltd description company online procurement materials description company shipping company description tokyo based japan environment java jsp servlet css javascript sql server 2000 t sql title studio automation system domain multimedia period jan 2004 may 2004 environment vb 6 vc ms sql server ms data report macromedia flash fire works at solid state technologists i pvt ltd pune company national dairy development board description environment c vb6 sql2000 lotus notes crystal report 8 ms active report 2 0 company solid state technologists i pvt ltd description company shell bharat petroleum description title computerized fuel density measurement automation system domain manufacturing automation period dec 2002 mar 2003 client shell bharat petroleum environment c vc matlab vb6 sql server 2000 crystal report title cmcs domain finance accounting period june 2002 nov 2002 environment vb6 sql server 2000 crystal report title food testing system company solid state technologists i pvt ltd description environment vb net sql server 2000 crystal report title customer care system company himalaya industries description environment asp net c sql server 2000 crystal report company mapco india ltd berco description environment vb6 oracle active data report»\n",
      "\n"
     ]
    }
   ],
   "source": [
    "print('Document ({}): «{}»\\n'.format(doc_id, ' '.join(training_data[doc_id].words)))\n",
    "print(u'SIMILAR/DISSIMILAR DOCS PER MODEL %s:\\n' % baseline_model)\n",
    "for label, index in [('MOST', 0), ('SECOND-MOST', 1), ('MEDIAN', len(sims)//2), ('LEAST', len(sims) - 1)]:\n",
    "    print(u'%s %s: «%s»\\n' % (label, sims[index], ' '.join(training_data[sims[index][0]].words)))"
   ]
  },
  {
   "cell_type": "code",
   "execution_count": 50,
   "metadata": {},
   "outputs": [],
   "source": [
    "cat_dict_test_clean = {cat: [] for cat in y_test}\n",
    "# print(cat_dict_test_clean)\n",
    "for i, v in enumerate(X_test):\n",
    "    cat_dict_test_clean[y_test[i]].append(v)"
   ]
  },
  {
   "cell_type": "code",
   "execution_count": 51,
   "metadata": {},
   "outputs": [
    {
     "name": "stdout",
     "output_type": "stream",
     "text": [
      "[-0.13070385 -1.949679   -0.44304395 -1.211238   -0.844497   -0.22970463\n",
      " -0.33146343  3.1134596  -2.2058005   1.0508901   0.5033362   0.42310044\n",
      " -0.3836528   1.159766    0.5759378   0.43354654  1.8294128   1.161793\n",
      " -0.6728141  -0.25289503  0.6305693   0.40217894  0.31130546  0.43573642\n",
      "  0.18783663  0.88018817 -1.0197024  -0.40984538 -0.05040639  0.31810322\n",
      "  1.249868   -0.25906286  0.89540213  1.3869416   0.7958478   0.17205253\n",
      " -0.08033868 -0.9815042  -0.335269    2.3027966   0.64444304  1.361534\n",
      " -2.0009284  -2.0399024   1.0825485  -0.9149722   0.34574512 -1.8197381\n",
      "  0.4148944   0.7025619 ]\n",
      "{'python_developer': 14, 'business_analyst': 8, 'hr': 13, 'web_designing': 14, 'devops_engineer': 17, 'mechanical_engineer': 12, 'pmo': 9, 'database': 10, 'data_science': 12, 'dotnet_developer': 8, 'java_developer': 25, 'hadoop': 13, 'network_security_engineer': 8, 'advocate': 6, 'sap_developer': 7, 'civil_engineer': 7, 'electrical_engineering': 9, 'arts': 11, 'automation_testing': 8, 'blockchain': 12, 'health_and_fitness': 9, 'etl_developer': 12, 'testing': 21, 'sales': 12, 'operations_manager': 12}\n"
     ]
    }
   ],
   "source": [
    "metadata = {}\n",
    "infered_vector_test = {} # contains, categor-wise, inferred doc vecs for each document in the test set\n",
    "for cat, docs in cat_dict_test_clean.items():\n",
    "    infered_vector_test[cat] = [baseline_model.infer_vector(doc) for doc in list(docs)]\n",
    "    metadata[cat] = len(infered_vector_test[cat])\n",
    "print(infered_vector_test['sales'][0])\n",
    "print(metadata)"
   ]
  },
  {
   "cell_type": "code",
   "execution_count": 52,
   "metadata": {},
   "outputs": [],
   "source": [
    "import csv\n",
    "\n",
    "def write_to_csv(input, output_file, delimeter='\\t'):\n",
    "    with open(output_file, \"w\") as f:\n",
    "        writer = csv.writer(f, delimiter=delimeter)\n",
    "        writer.writerows(input)\n",
    "        \n",
    "veclist_metadata = []\n",
    "veclist = []\n",
    "\n",
    "for cat in cat_dict_test_clean.keys():\n",
    "    for tag in [cat]*metadata[cat]:\n",
    "        veclist_metadata.append([tag])\n",
    "    for vec in infered_vector_test[cat]:\n",
    "        veclist.append(list(vec))\n",
    "        \n",
    "write_to_csv(veclist, \"doc2vec_hf_resumes_test_vectors.csv\")\n",
    "write_to_csv(veclist_metadata, \"doc2vec_hf_resumes_test_vectors_metadata.csv\")"
   ]
  }
 ],
 "metadata": {
  "kernelspec": {
   "display_name": "base",
   "language": "python",
   "name": "python3"
  },
  "language_info": {
   "codemirror_mode": {
    "name": "ipython",
    "version": 3
   },
   "file_extension": ".py",
   "mimetype": "text/x-python",
   "name": "python",
   "nbconvert_exporter": "python",
   "pygments_lexer": "ipython3",
   "version": "3.9.12"
  },
  "orig_nbformat": 4,
  "vscode": {
   "interpreter": {
    "hash": "a12e877c04624be958b30f1ec8c927f186552dcee8ba212203c3dd40ba478394"
   }
  }
 },
 "nbformat": 4,
 "nbformat_minor": 2
}
